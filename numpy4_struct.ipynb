{
  "nbformat": 4,
  "nbformat_minor": 0,
  "metadata": {
    "colab": {
      "name": "numpy4_struct.ipynb",
      "provenance": [],
      "authorship_tag": "ABX9TyPCXSgW0ewNDxNHMJI6dHt4",
      "include_colab_link": true
    },
    "kernelspec": {
      "name": "python3",
      "display_name": "Python 3"
    },
    "language_info": {
      "name": "python"
    }
  },
  "cells": [
    {
      "cell_type": "markdown",
      "metadata": {
        "id": "view-in-github",
        "colab_type": "text"
      },
      "source": [
        "<a href=\"https://colab.research.google.com/github/JennEYoon/Coursera-DLAI/blob/main/numpy4_struct.ipynb\" target=\"_parent\"><img src=\"https://colab.research.google.com/assets/colab-badge.svg\" alt=\"Open In Colab\"/></a>"
      ]
    },
    {
      "cell_type": "markdown",
      "source": [
        "### Quick Practice, numpy4, structured array  "
      ],
      "metadata": {
        "id": "nRKg6fV8g0bw"
      }
    },
    {
      "cell_type": "code",
      "execution_count": 1,
      "metadata": {
        "colab": {
          "base_uri": "https://localhost:8080/"
        },
        "id": "N_pgEhaLgrH5",
        "outputId": "621bd198-8aac-4d46-c053-a0ee1759c839"
      },
      "outputs": [
        {
          "output_type": "execute_result",
          "data": {
            "text/plain": [
              "<module 'numpy' from '/usr/local/lib/python3.7/dist-packages/numpy/__init__.py'>"
            ]
          },
          "metadata": {},
          "execution_count": 1
        }
      ],
      "source": [
        "# numpy4, quick practice  \n",
        "# Structured Arrays in numpy  \n",
        "# Data start Jan 18, 2022 1:30 pm, 3:10 pm stopped\n",
        "# Github repo: \"code\" folder \"current\" file \"numpy4_structured.py\"  \n",
        "\n",
        "import numpy as np \n",
        "np"
      ]
    },
    {
      "cell_type": "code",
      "source": [
        ""
      ],
      "metadata": {
        "id": "y_xoNoKDg2QK"
      },
      "execution_count": null,
      "outputs": []
    },
    {
      "cell_type": "code",
      "source": [
        "# Structured Array data type  \n",
        "# Only data type that can have strings in a numpy cell.\n",
        "            \n",
        "data = {'person':['Mary', \"Jisoo\", \"Kevin\", \"Craig\"], \n",
        "        'weight':[125.5, 105.3, 163.2, 180.9], \n",
        "        'id':[101, 102, 55, 56]}\n",
        "print(data, type(data))"
      ],
      "metadata": {
        "colab": {
          "base_uri": "https://localhost:8080/"
        },
        "id": "HoehEwxvg2Tu",
        "outputId": "a944a108-263f-4b81-f0ff-73f35442f756"
      },
      "execution_count": 2,
      "outputs": [
        {
          "output_type": "stream",
          "name": "stdout",
          "text": [
            "{'person': ['Mary', 'Jisoo', 'Kevin', 'Craig'], 'weight': [125.5, 105.3, 163.2, 180.9], 'id': [101, 102, 55, 56]} <class 'dict'>\n"
          ]
        }
      ]
    },
    {
      "cell_type": "code",
      "source": [
        "# mat = np.structured(data=data, dtype={'person': 'string', 'age':'float16', 'id':'uint'})     \n",
        "# Not sure about name of function for structured array  \n",
        "# Not sure about format      \n",
        "\n",
        "# First create an empty container with compound data types\n",
        "# Then fill with data, each item is a list.\n",
        "\n",
        "tp = np.dtype=({'names':('person', 'weight', 'id'), 'formats':('U10', 'f8', 'u1')})\n",
        "# each items are tuples, so ( ) and not list [ ]\n",
        "X = np.zeros(4, dtype=tp) \n",
        "# 4 rows, each with 3 columns  \n",
        "print(X, type(X), '\\n')\n",
        "\n",
        "X['person'] = data['person']\n",
        "X['weight'] = data['weight']\n",
        "X['id'] = data['id']\n",
        "print(X, type(X), '\\n')\n",
        "\n",
        "print(\"4th record: \", X[3], \"Name: \", X[3]['person'])"
      ],
      "metadata": {
        "colab": {
          "base_uri": "https://localhost:8080/"
        },
        "id": "zWkZv2Hlg2Wu",
        "outputId": "a63044a4-f0f9-4306-bfd1-5de64149c0c7"
      },
      "execution_count": 9,
      "outputs": [
        {
          "output_type": "stream",
          "name": "stdout",
          "text": [
            "[('', 0., 0) ('', 0., 0) ('', 0., 0) ('', 0., 0)] <class 'numpy.ndarray'> \n",
            "\n",
            "[('Mary', 125.5, 101) ('Jisoo', 105.3, 102) ('Kevin', 163.2,  55)\n",
            " ('Craig', 180.9,  56)] <class 'numpy.ndarray'> \n",
            "\n",
            "4th record:  ('Craig', 180.9, 56) Name:  Craig\n"
          ]
        }
      ]
    },
    {
      "cell_type": "code",
      "source": [
        "# Try in one go  \n",
        "\n",
        "Y = np.array(data, dtype=tp)\n",
        "print(Y, type(Y))"
      ],
      "metadata": {
        "colab": {
          "base_uri": "https://localhost:8080/",
          "height": 217
        },
        "id": "r7zEtZ5il_nB",
        "outputId": "0cb3af4b-3048-4948-cd5e-f50e0a3121d5"
      },
      "execution_count": 10,
      "outputs": [
        {
          "output_type": "error",
          "ename": "TypeError",
          "evalue": "ignored",
          "traceback": [
            "\u001b[0;31m---------------------------------------------------------------------------\u001b[0m",
            "\u001b[0;31mTypeError\u001b[0m                                 Traceback (most recent call last)",
            "\u001b[0;32m<ipython-input-10-523912d77d3f>\u001b[0m in \u001b[0;36m<module>\u001b[0;34m()\u001b[0m\n\u001b[1;32m      1\u001b[0m \u001b[0;31m# Try in one go\u001b[0m\u001b[0;34m\u001b[0m\u001b[0;34m\u001b[0m\u001b[0;34m\u001b[0m\u001b[0m\n\u001b[1;32m      2\u001b[0m \u001b[0;34m\u001b[0m\u001b[0m\n\u001b[0;32m----> 3\u001b[0;31m \u001b[0mY\u001b[0m \u001b[0;34m=\u001b[0m \u001b[0mnp\u001b[0m\u001b[0;34m.\u001b[0m\u001b[0marray\u001b[0m\u001b[0;34m(\u001b[0m\u001b[0mdata\u001b[0m\u001b[0;34m=\u001b[0m\u001b[0mdata\u001b[0m\u001b[0;34m,\u001b[0m \u001b[0mdtype\u001b[0m\u001b[0;34m=\u001b[0m\u001b[0mtp\u001b[0m\u001b[0;34m)\u001b[0m\u001b[0;34m\u001b[0m\u001b[0;34m\u001b[0m\u001b[0m\n\u001b[0m\u001b[1;32m      4\u001b[0m \u001b[0mprint\u001b[0m\u001b[0;34m(\u001b[0m\u001b[0mY\u001b[0m\u001b[0;34m,\u001b[0m \u001b[0mtype\u001b[0m\u001b[0;34m(\u001b[0m\u001b[0mY\u001b[0m\u001b[0;34m)\u001b[0m\u001b[0;34m)\u001b[0m\u001b[0;34m\u001b[0m\u001b[0;34m\u001b[0m\u001b[0m\n",
            "\u001b[0;31mTypeError\u001b[0m: array() missing required argument 'object' (pos 1)"
          ]
        }
      ]
    },
    {
      "cell_type": "code",
      "source": [
        ""
      ],
      "metadata": {
        "id": "lF2jtMl1l_tk"
      },
      "execution_count": null,
      "outputs": []
    },
    {
      "cell_type": "code",
      "source": [
        ""
      ],
      "metadata": {
        "id": "dA0O0AxCl_0Z"
      },
      "execution_count": null,
      "outputs": []
    },
    {
      "cell_type": "code",
      "source": [
        "A = np.ones((3, 5), dtype='float32')\n",
        "# expect 3 row x 5 col matrix of floating point 1.'s.  \n",
        "print(\"ones: \\n\", A, type(A), '\\n')\n",
        "\n",
        "# B = np.random.random((3, 5), dtype='float16') \n",
        "# expect 3 row x 5 col matrix, random numbers (0, 1) uniform distribution  \n",
        "# no type attribute for random generator. Returns float always. \n",
        "#  B = np.random.random(3,5) # row x col needs to be a single object, inside ().\n",
        "B = np.random.random((3, 5))\n",
        "print(\"randome: \\n\", B, type(B), '\\n')\n",
        "\n",
        "# C = np.random.normal((3, 3), (0, 3))      \n",
        "# expect 3 x 3 matric, random numbers from (mu=0, sigma=+/- 3) normal distribution  \n",
        "# ex: np.random.normal(3, 2.5, size=(2, 4))\n",
        "# np.random.normal(mu, sigma, size=(row, col))\n",
        "\n",
        "C = np.random.normal(0, 6, size=(3, 5))\n",
        "print(\"normal dist: \\n\", C, type(C))"
      ],
      "metadata": {
        "colab": {
          "base_uri": "https://localhost:8080/"
        },
        "id": "6c87PVfjg2ZF",
        "outputId": "2a75fa65-2080-4823-cfa8-ffdea444d778"
      },
      "execution_count": 6,
      "outputs": [
        {
          "output_type": "stream",
          "name": "stdout",
          "text": [
            "ones: \n",
            " [[1. 1. 1. 1. 1.]\n",
            " [1. 1. 1. 1. 1.]\n",
            " [1. 1. 1. 1. 1.]] <class 'numpy.ndarray'> \n",
            "\n",
            "randome: \n",
            " [[0.44632342 0.84276813 0.73352337 0.29567356 0.97470118]\n",
            " [0.81850204 0.05012834 0.53188638 0.27503883 0.47992288]\n",
            " [0.02773202 0.8420347  0.80172319 0.38064405 0.19458141]] <class 'numpy.ndarray'> \n",
            "\n",
            "normal dist: \n",
            " [[ 3.03584202  6.68102199  0.50757737 10.51488636  1.15349373]\n",
            " [-5.37782317 -1.07619403  4.8113455   1.4982354  -1.95052267]\n",
            " [-0.87600221  0.56925171  1.40976336  3.71878832  7.02800969]] <class 'numpy.ndarray'>\n"
          ]
        }
      ]
    },
    {
      "cell_type": "code",
      "source": [
        "# random with reshape  \n",
        "R = np.random.random(16)\n",
        "R\n"
      ],
      "metadata": {
        "colab": {
          "base_uri": "https://localhost:8080/"
        },
        "id": "FDxFa5iZg2cM",
        "outputId": "a4026296-7df5-453d-a2bc-8f1a08797343"
      },
      "execution_count": 7,
      "outputs": [
        {
          "output_type": "execute_result",
          "data": {
            "text/plain": [
              "array([0.74619932, 0.51854679, 0.25737467, 0.80019657, 0.44731683,\n",
              "       0.40264002, 0.52102866, 0.453735  , 0.68414209, 0.35433349,\n",
              "       0.32457585, 0.81593403, 0.83904114, 0.49573734, 0.815308  ,\n",
              "       0.84018949])"
            ]
          },
          "metadata": {},
          "execution_count": 7
        }
      ]
    },
    {
      "cell_type": "code",
      "source": [
        "R2 = np.random.randint(-10, 10, 16)\n",
        "R3 = R2.reshape(2, 8)\n",
        "R3"
      ],
      "metadata": {
        "colab": {
          "base_uri": "https://localhost:8080/"
        },
        "id": "XQQE9fKpg2fm",
        "outputId": "b03fc881-d0d3-4fe6-80d6-55f638dcf74a"
      },
      "execution_count": 10,
      "outputs": [
        {
          "output_type": "execute_result",
          "data": {
            "text/plain": [
              "array([[ 2, -9,  8,  2,  7, -7,  8, -2],\n",
              "       [ 8, -3,  5, -7, -3,  1,  1,  3]])"
            ]
          },
          "metadata": {},
          "execution_count": 10
        }
      ]
    }
  ]
}